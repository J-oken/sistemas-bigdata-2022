{
 "cells": [
  {
   "cell_type": "code",
   "execution_count": null,
   "id": "1e7f7d2b-d89c-49d6-a5dd-3cc5157c449d",
   "metadata": {},
   "outputs": [],
   "source": [
    "# Documentación libraría pandas\n",
    "# https://pandas.pydata.org/docs/index.html\n",
    "# importar libraría pandas\n",
    "import pandas as pd"
   ]
  },
  {
   "cell_type": "code",
   "execution_count": null,
   "id": "8724e9f0-c112-4607-b51d-be5e10fdbe21",
   "metadata": {},
   "outputs": [],
   "source": [
    "# https://rubenfcasal.github.io/COVID-19/\n",
    "# https://cnecovid.isciii.es/covid19/resources/casos_hosp_uci_def_sexo_edad_provres.csv\n",
    "# Metadata: https://cnecovid.isciii.es/covid19/resources/metadata_diag_ccaa_decl_prov_edad_sexo.pdf\n",
    "# Ficheiro CSV comprimido de 3.9MB\n",
    "df = pd.read_csv('../datasets/casos_hosp_uci_def_sexo_edad_provres.zip')"
   ]
  },
  {
   "cell_type": "code",
   "execution_count": null,
   "id": "7384a50e-31cb-485e-a813-0469189068ba",
   "metadata": {},
   "outputs": [],
   "source": [
    "# Mostrar Número de filas e columnas\n",
    "df.shape"
   ]
  },
  {
   "cell_type": "code",
   "execution_count": null,
   "id": "6a6c4555-c6ab-4763-be35-f1156b32f451",
   "metadata": {},
   "outputs": [],
   "source": [
    "# Bótalle un ollo aos datos\n",
    "df.tail()"
   ]
  },
  {
   "cell_type": "code",
   "execution_count": null,
   "id": "bceb4a0e-e290-48b4-b9ed-fe2b88f1f60f",
   "metadata": {},
   "outputs": [],
   "source": [
    "# Salva os datos a formato .parquet e compara os tamaños do parquet, zip e csv\n",
    "df.to_parquet('../datasets/casos_hosp_uci_def_sexo_edad_provres.parquet')"
   ]
  },
  {
   "cell_type": "code",
   "execution_count": null,
   "id": "5d61b464-1f4a-479c-9922-13d836772733",
   "metadata": {},
   "outputs": [],
   "source": [
    "# Indica os pesos dos diferentes ficheiros\n",
    "# csv: \n",
    "# zip:\n",
    "# parquet:"
   ]
  },
  {
   "cell_type": "code",
   "execution_count": null,
   "id": "46902355-67e7-4e9d-b93f-acbe98e2e989",
   "metadata": {
    "tags": []
   },
   "outputs": [],
   "source": [
    "# Carga o dataset do titanic\n",
    "df = pd.read_csv('../datasets/titanic.csv')\n",
    "df"
   ]
  },
  {
   "cell_type": "code",
   "execution_count": null,
   "id": "4cb62ba5-9d2e-4883-9f60-b4ce0ae65918",
   "metadata": {},
   "outputs": [],
   "source": [
    "# Gardar o resultado nun novo ficheiro JSON\n",
    "df.to_json('output/titanic.json')"
   ]
  },
  {
   "cell_type": "code",
   "execution_count": null,
   "id": "d16e7359-6b08-4f16-bf17-6d481fa28b8c",
   "metadata": {},
   "outputs": [],
   "source": [
    "# Abrir e revisar o novo ficheiro creado cun visor de texto\n",
    "# Fíxate como se almacenan os datos"
   ]
  },
  {
   "cell_type": "code",
   "execution_count": null,
   "id": "b1fe01e3-499b-4008-8bf1-57c0b6831304",
   "metadata": {},
   "outputs": [],
   "source": [
    "# Mostra as mulleres supervivintes de máis de 50 anos\n",
    "df[ (df.Survived == 1) & (df.Sex == 'female') & (df.Age > 50) ]"
   ]
  },
  {
   "cell_type": "code",
   "execution_count": null,
   "id": "24ba4659-ad5f-4bda-b506-b0ce3ba4d3ad",
   "metadata": {},
   "outputs": [],
   "source": [
    "# Mostra os home supervivintes de máis de 50 anos\n",
    "df[ (df.Survived == 1) & (df.Sex == 'male') & (df.Age > 50) ]"
   ]
  },
  {
   "cell_type": "code",
   "execution_count": null,
   "id": "e017028e-de9d-493d-8fc1-1a3aadb99fbe",
   "metadata": {},
   "outputs": [],
   "source": [
    "## Podemos responder preguntas que nos facemos sobre os datos"
   ]
  },
  {
   "cell_type": "code",
   "execution_count": null,
   "id": "90b1e99a-0b99-4560-b9a4-a68d88eefa5d",
   "metadata": {},
   "outputs": [],
   "source": [
    "# Cales eran as categorías de pasaxeiros no barco?\n",
    "df.Pclass.unique()"
   ]
  },
  {
   "cell_type": "code",
   "execution_count": null,
   "id": "12b42d2b-15ef-40fb-8db2-d4cb1215bcb9",
   "metadata": {},
   "outputs": [],
   "source": [
    "# Pregunta: Cantas persoas sobreviviron de primeira clase\n",
    "df[ (df.Survived == 1) & (df.Pclass == 1) ].Name.count()"
   ]
  },
  {
   "cell_type": "code",
   "execution_count": null,
   "id": "5e5eda8f-3157-436e-9e24-9ff852dabf34",
   "metadata": {},
   "outputs": [],
   "source": [
    "# Pregunta: Cantas persoas sobreviviron da clase máis baixa\n",
    "df[ (df.Survived == 1) & (df.Pclass == 3) ].Name.count()"
   ]
  },
  {
   "cell_type": "code",
   "execution_count": null,
   "id": "4a668e66-a4e2-4da9-9b76-64b34bca2fb5",
   "metadata": {},
   "outputs": [],
   "source": [
    "# Importar libraría geopandas\n",
    "import geopandas as gpd"
   ]
  },
  {
   "cell_type": "code",
   "execution_count": null,
   "id": "c7a2e830-ad25-40c7-adc6-371bf51b29e2",
   "metadata": {},
   "outputs": [],
   "source": [
    "# Mapas interesantes\n",
    "# https://hub.arcgis.com/datasets/ad61dcd7dd244d4096c22a49cc97011f/about\n",
    "paises = gpd.read_file('../datasets/shp_mapa_paises_mundo_2014/Mapa_paises_mundo.shp')\n",
    "paises"
   ]
  },
  {
   "cell_type": "code",
   "execution_count": null,
   "id": "83c219d1-a3da-4d03-94e5-cfd0363efd33",
   "metadata": {},
   "outputs": [],
   "source": [
    "# Cantos países hai no mundo?\n",
    "len(paises.PAIS.unique())"
   ]
  },
  {
   "cell_type": "code",
   "execution_count": null,
   "id": "96765fd7-1e5c-4037-96f0-6eee918bdf8c",
   "metadata": {},
   "outputs": [],
   "source": [
    "# pinta o mundo\n",
    "paises.plot()"
   ]
  },
  {
   "cell_type": "code",
   "execution_count": null,
   "id": "3f76ed16-af48-4f27-87ca-eb2fd7a013fd",
   "metadata": {},
   "outputs": [],
   "source": [
    "# pinta España\n",
    "paises[paises.COUNTRY == 'Spain'].plot()"
   ]
  },
  {
   "cell_type": "code",
   "execution_count": null,
   "id": "b962ac53-ba57-4185-9692-9a27f03df256",
   "metadata": {},
   "outputs": [],
   "source": [
    "# Pinta España, Francia, Portugal e Italia\n",
    "paises[paises.COUNTRY.isin(['Spain','Portugal','Italy'])].plot()"
   ]
  },
  {
   "cell_type": "code",
   "execution_count": null,
   "id": "2f6437fc-d822-4544-ba91-8d4f7c1a5331",
   "metadata": {
    "tags": []
   },
   "outputs": [],
   "source": [
    "# Descarga o mapa do estado con datos sobre seccións censais, etc..\n",
    "# Carga e pinta o mapa\n",
    "# https://www.ine.es/ss/Satellite?L=es_ES&c=Page&cid=1259952026632&p=1259952026632&pagename=ProductosYServicios%2FPYSLayout\n",
    "gdf = gpd.read_file('../datasets/seccionado_2021/España_Seccionado2021/SECC_CE_20210101.shp')\n",
    "gdf.plot()"
   ]
  },
  {
   "cell_type": "code",
   "execution_count": null,
   "id": "f165195d-f57e-4273-9fa6-d1b348a9780e",
   "metadata": {
    "tags": []
   },
   "outputs": [],
   "source": [
    "# Bótalle unha ollada aos datos\n",
    "gdf.head()"
   ]
  },
  {
   "cell_type": "code",
   "execution_count": null,
   "id": "d0418eed-37fe-4dee-892e-1737b0f83008",
   "metadata": {},
   "outputs": [],
   "source": [
    "# Pinta un mapa de Galicia\n",
    "gdf[gdf.NCA == 'Galicia'].plot()"
   ]
  },
  {
   "cell_type": "code",
   "execution_count": null,
   "id": "b457f91a-3cf1-45bc-bcfc-a5b833e6d831",
   "metadata": {},
   "outputs": [],
   "source": [
    "# Pinta un mapa do concello da Coruña\n",
    "gdf[gdf.NMUN == 'Coruña, A'].plot()"
   ]
  },
  {
   "cell_type": "code",
   "execution_count": null,
   "id": "98bebf48",
   "metadata": {},
   "outputs": [],
   "source": []
  }
 ],
 "metadata": {
  "kernelspec": {
   "display_name": "Python 3.8.10 64-bit",
   "language": "python",
   "name": "python3"
  },
  "language_info": {
   "codemirror_mode": {
    "name": "ipython",
    "version": 3
   },
   "file_extension": ".py",
   "mimetype": "text/x-python",
   "name": "python",
   "nbconvert_exporter": "python",
   "pygments_lexer": "ipython3",
   "version": "3.8.10 (default, Jun 22 2022, 20:18:18) \n[GCC 9.4.0]"
  },
  "vscode": {
   "interpreter": {
    "hash": "916dbcbb3f70747c44a77c7bcd40155683ae19c65e1c03b4aa3499c5328201f1"
   }
  }
 },
 "nbformat": 4,
 "nbformat_minor": 5
}
