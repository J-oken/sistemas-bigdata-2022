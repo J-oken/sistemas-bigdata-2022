{
 "cells": [
  {
   "cell_type": "code",
   "execution_count": 1,
   "id": "bb4ca998-b77e-49f2-8a15-6aeba961172f",
   "metadata": {},
   "outputs": [],
   "source": [
    "# Documentación libraría pandas\n",
    "# https://pandas.pydata.org/docs/index.html\n",
    "#importar libraría pandas\n"
   ]
  },
  {
   "cell_type": "code",
   "execution_count": 2,
   "id": "8572419b-ecaa-4fa0-9eb4-2dae490155ce",
   "metadata": {},
   "outputs": [],
   "source": [
    "# dataset sobre consumo de alcohol en estudantes\n",
    "# https://www.kaggle.com/uciml/student-alcohol-consumption\n",
    "# Abre o ficheiro desde o filesystem local\n"
   ]
  },
  {
   "cell_type": "code",
   "execution_count": 3,
   "id": "d8947e72-48a5-4f5c-bb65-073029093feb",
   "metadata": {},
   "outputs": [],
   "source": [
    "# Abre o ficheiro directamente desde a rede (busca o enderezo no repo de github)\n"
   ]
  },
  {
   "cell_type": "code",
   "execution_count": 4,
   "id": "63b12247-f172-4686-964d-7db76ab1c6c0",
   "metadata": {},
   "outputs": [],
   "source": [
    "# mostrar o dataframe\n"
   ]
  },
  {
   "cell_type": "code",
   "execution_count": 7,
   "id": "45cb3e2c-a892-4e16-b8fd-f4fc8205eb57",
   "metadata": {},
   "outputs": [],
   "source": [
    "# mostra o tipo de datos de cada columna\n"
   ]
  },
  {
   "cell_type": "code",
   "execution_count": 8,
   "id": "2258be96-481c-4af0-bd42-572d73a680b9",
   "metadata": {},
   "outputs": [],
   "source": [
    "# Mostra as 3 primeiras  filas do dataframe\n"
   ]
  },
  {
   "cell_type": "code",
   "execution_count": 9,
   "id": "e3f7ed08-a3a2-4e03-8ed2-b59c8dcc792a",
   "metadata": {},
   "outputs": [],
   "source": [
    "# Mostra as columnas school, sex e age\n"
   ]
  },
  {
   "cell_type": "code",
   "execution_count": 10,
   "id": "2b389530-7059-4ffc-80d7-f7be82ee1189",
   "metadata": {},
   "outputs": [],
   "source": [
    "# Mostra as 3 primeiras filas das columnas school, sex e age\n"
   ]
  },
  {
   "cell_type": "code",
   "execution_count": 11,
   "id": "7b4ec54c-1716-4e83-9d1d-839c605afd3d",
   "metadata": {},
   "outputs": [],
   "source": [
    "# Mostra 4 filas aleatorias das columnas school, sex e age\n"
   ]
  },
  {
   "cell_type": "code",
   "execution_count": 12,
   "id": "1568ab57-246a-4eb4-bfa9-66966e407ff5",
   "metadata": {},
   "outputs": [],
   "source": [
    "# Mostra os nomes das columnas\n"
   ]
  },
  {
   "cell_type": "code",
   "execution_count": 13,
   "id": "d44a47b9-b675-4147-98b0-554a8e188f02",
   "metadata": {},
   "outputs": [],
   "source": [
    "# Mostra información sobre os índices\n"
   ]
  },
  {
   "cell_type": "code",
   "execution_count": 14,
   "id": "9716fff3-ec1d-4cd7-b250-fd1b34de0892",
   "metadata": {},
   "outputs": [],
   "source": [
    "# Mostra a columna de ausencias como unha serie\n"
   ]
  },
  {
   "cell_type": "code",
   "execution_count": 15,
   "id": "3a841f04-0aed-451f-a7b1-c63534206f42",
   "metadata": {},
   "outputs": [],
   "source": [
    "# Mostra a columna de ausencias como un dataframe\n"
   ]
  },
  {
   "cell_type": "code",
   "execution_count": 16,
   "id": "b69e7602-4c98-40a0-b409-e5cc867991e2",
   "metadata": {},
   "outputs": [],
   "source": [
    "# crea unha variable s_ausencias coa serie das ausencias\n",
    "\n",
    "# crea unha variable df_ausencias como dataframe de ausencias\n"
   ]
  },
  {
   "cell_type": "code",
   "execution_count": 17,
   "id": "6cd55b16-88f7-4f4f-b46a-f7bf0a1cca6e",
   "metadata": {},
   "outputs": [],
   "source": [
    "# mostra os 3 primeiros datos da serie s_ausencias\n"
   ]
  },
  {
   "cell_type": "code",
   "execution_count": 18,
   "id": "32961ebd-9301-48d8-834b-ac33946e7610",
   "metadata": {},
   "outputs": [],
   "source": [
    "# mostra as 7 primeiras filas do dataframe df_ausencias\n"
   ]
  },
  {
   "cell_type": "code",
   "execution_count": 19,
   "id": "932db815-3c8f-420a-83c4-abd48df56188",
   "metadata": {},
   "outputs": [],
   "source": [
    "# Como ves, o tipo Series e o tipo Dataframe comparten algunhas funcións: .head(), .tail(), .sample()"
   ]
  },
  {
   "cell_type": "code",
   "execution_count": 22,
   "id": "cb66817d-e73b-44d9-982c-19d325bc2953",
   "metadata": {},
   "outputs": [],
   "source": [
    "# Escribe ao ficheiro estudantes1.csv os datos de sexo, idade, tempo libre, tempo de estudo e tempo de saír \n"
   ]
  },
  {
   "cell_type": "code",
   "execution_count": 23,
   "id": "e43b8e8c-d4a8-4704-904b-9ed98dff8835",
   "metadata": {},
   "outputs": [],
   "source": [
    "# Le o novo ficheiro creado e garda os datos no dataframe df_estudantes1\n"
   ]
  },
  {
   "cell_type": "code",
   "execution_count": 24,
   "id": "f443eec2-fadc-42fb-bc98-0cc47b1ce098",
   "metadata": {},
   "outputs": [],
   "source": [
    "# Escribe ao ficheiro estudantes2.csv os datos de idade, tempo libre, saúde, relación de parella e se queren optar a educación superior\n",
    "# Nome do ficheiro: estudantes2.csv\n",
    "# Utiliza o separador ;\n",
    "# Non gardes as cabeceiras\n",
    "# Non gardes os índices\n"
   ]
  },
  {
   "cell_type": "code",
   "execution_count": 25,
   "id": "aacd71a1-eba2-4800-93a8-ababdcb3c884",
   "metadata": {},
   "outputs": [],
   "source": [
    "# Le o novo ficheiro creado e garda os datos no dataframe df_estudantes2\n",
    "# Utiliza os seguintes nomes para as columnas: idade, tempo libre, saude, emparellado, edu. superior\n"
   ]
  },
  {
   "cell_type": "markdown",
   "id": "e3240010-b20e-4e3e-a350-c50e576340b1",
   "metadata": {},
   "source": [
    "Attributes for both student-mat.csv (Math course) and student-por.csv (Portuguese language course) datasets:\n",
    "\n",
    "    school - student's school (binary: 'GP' - Gabriel Pereira or 'MS' - Mousinho da Silveira)\n",
    "    sex - student's sex (binary: 'F' - female or 'M' - male)\n",
    "    age - student's age (numeric: from 15 to 22)\n",
    "    address - student's home address type (binary: 'U' - urban or 'R' - rural)\n",
    "    famsize - family size (binary: 'LE3' - less or equal to 3 or 'GT3' - greater than 3)\n",
    "    Pstatus - parent's cohabitation status (binary: 'T' - living together or 'A' - apart)\n",
    "    Medu - mother's education (numeric: 0 - none, 1 - primary education (4th grade), 2 – 5th to 9th grade, 3 – secondary education or 4 – higher education)\n",
    "    Fedu - father's education (numeric: 0 - none, 1 - primary education (4th grade), 2 – 5th to 9th grade, 3 – secondary education or 4 – higher education)\n",
    "    Mjob - mother's job (nominal: 'teacher', 'health' care related, civil 'services' (e.g. administrative or police), 'at_home' or 'other')\n",
    "    Fjob - father's job (nominal: 'teacher', 'health' care related, civil 'services' (e.g. administrative or police), 'at_home' or 'other')\n",
    "    reason - reason to choose this school (nominal: close to 'home', school 'reputation', 'course' preference or 'other')\n",
    "    guardian - student's guardian (nominal: 'mother', 'father' or 'other')\n",
    "    traveltime - home to school travel time (numeric: 1 - <15 min., 2 - 15 to 30 min., 3 - 30 min. to 1 hour, or 4 - >1 hour)\n",
    "    studytime - weekly study time (numeric: 1 - <2 hours, 2 - 2 to 5 hours, 3 - 5 to 10 hours, or 4 - >10 hours)\n",
    "    failures - number of past class failures (numeric: n if 1<=n<3, else 4)\n",
    "    schoolsup - extra educational support (binary: yes or no)\n",
    "    famsup - family educational support (binary: yes or no)\n",
    "    paid - extra paid classes within the course subject (Math or Portuguese) (binary: yes or no)\n",
    "    activities - extra-curricular activities (binary: yes or no)\n",
    "    nursery - attended nursery school (binary: yes or no)\n",
    "    higher - wants to take higher education (binary: yes or no)\n",
    "    internet - Internet access at home (binary: yes or no)\n",
    "    romantic - with a romantic relationship (binary: yes or no)\n",
    "    famrel - quality of family relationships (numeric: from 1 - very bad to 5 - excellent)\n",
    "    freetime - free time after school (numeric: from 1 - very low to 5 - very high)\n",
    "    goout - going out with friends (numeric: from 1 - very low to 5 - very high)\n",
    "    Dalc - workday alcohol consumption (numeric: from 1 - very low to 5 - very high)\n",
    "    Walc - weekend alcohol consumption (numeric: from 1 - very low to 5 - very high)\n",
    "    health - current health status (numeric: from 1 - very bad to 5 - very good)\n",
    "    absences - number of school absences (numeric: from 0 to 93)\n",
    "\n",
    "These grades are related with the course subject, Math or Portuguese:\n",
    "\n",
    "    G1 - first period grade (numeric: from 0 to 20)\n",
    "    G2 - second period grade (numeric: from 0 to 20)\n",
    "    G3 - final grade (numeric: from 0 to 20, output target)\n"
   ]
  }
 ],
 "metadata": {
  "kernelspec": {
   "display_name": "Python 3.8.10 64-bit",
   "language": "python",
   "name": "python3"
  },
  "language_info": {
   "codemirror_mode": {
    "name": "ipython",
    "version": 3
   },
   "file_extension": ".py",
   "mimetype": "text/x-python",
   "name": "python",
   "nbconvert_exporter": "python",
   "pygments_lexer": "ipython3",
   "version": "3.8.10"
  },
  "vscode": {
   "interpreter": {
    "hash": "916dbcbb3f70747c44a77c7bcd40155683ae19c65e1c03b4aa3499c5328201f1"
   }
  }
 },
 "nbformat": 4,
 "nbformat_minor": 5
}
