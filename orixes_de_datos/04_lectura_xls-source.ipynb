{
 "cells": [
  {
   "cell_type": "code",
   "execution_count": null,
   "id": "bb4ca998-b77e-49f2-8a15-6aeba961172f",
   "metadata": {},
   "outputs": [],
   "source": [
    "# Documentación libraría pandas\n",
    "# https://pandas.pydata.org/docs/index.html\n",
    "# importar libraría pandas\n",
    "import pandas as pd"
   ]
  },
  {
   "cell_type": "code",
   "execution_count": null,
   "id": "8572419b-ecaa-4fa0-9eb4-2dae490155ce",
   "metadata": {},
   "outputs": [],
   "source": [
    "# dataset de exemplo en XLS creado a partir dos datos de centros educativos de Galicia (unicamente provincias da Coruña e Lugo)\n",
    "df = pd.read_excel('../datasets/centros_educativos_galicia.xls')"
   ]
  },
  {
   "cell_type": "code",
   "execution_count": null,
   "id": "d8947e72-48a5-4f5c-bb65-073029093feb",
   "metadata": {},
   "outputs": [],
   "source": [
    "# Outro xeito máis elegante de abrir os ficheiros\n",
    "ficheiro = '../datasets/centros_educativos_galicia.xls'\n",
    "df = pd.read_excel(ficheiro)"
   ]
  },
  {
   "cell_type": "code",
   "execution_count": null,
   "id": "63b12247-f172-4686-964d-7db76ab1c6c0",
   "metadata": {},
   "outputs": [],
   "source": [
    "# mostrar o dataframe\n",
    "df"
   ]
  },
  {
   "cell_type": "code",
   "execution_count": null,
   "id": "40fd0526-e731-42c5-97ff-726d0add7805",
   "metadata": {},
   "outputs": [],
   "source": [
    "# algunhas funcións para coñecer o dataframe\n",
    "#df.head()\n",
    "#df.tail()\n",
    "#df.describe()\n",
    "df.sample()"
   ]
  },
  {
   "cell_type": "code",
   "execution_count": null,
   "id": "45cb3e2c-a892-4e16-b8fd-f4fc8205eb57",
   "metadata": {},
   "outputs": [],
   "source": [
    "# información sobre os tipos de datos das columnas\n",
    "df.info()"
   ]
  },
  {
   "cell_type": "code",
   "execution_count": null,
   "id": "1568ab57-246a-4eb4-bfa9-66966e407ff5",
   "metadata": {},
   "outputs": [],
   "source": [
    "# Selección dos nomes das columnas\n",
    "df.columns"
   ]
  },
  {
   "cell_type": "code",
   "execution_count": null,
   "id": "9716fff3-ec1d-4cd7-b250-fd1b34de0892",
   "metadata": {},
   "outputs": [],
   "source": [
    "# Selección algúns nomes aleatorios\n",
    "df.Nome.sample(5)"
   ]
  },
  {
   "cell_type": "code",
   "execution_count": null,
   "id": "3189f880-e560-4a3b-b068-bb28e4aeefde",
   "metadata": {},
   "outputs": [],
   "source": [
    "# Selección de Concellos e coordenadas: os 10 primeiros\n",
    "df[['Concello','COORDENADA_X','COORDENADA_Y']].head(10)"
   ]
  },
  {
   "cell_type": "code",
   "execution_count": null,
   "id": "a267f569-bfc0-460f-add0-20e7babf8abe",
   "metadata": {},
   "outputs": [],
   "source": [
    "# Selección de valores presentes nunha columna\n",
    "df.Concello\n",
    "# Ollo ao tipo!!! <- Series\n",
    "#df.Concello.unique()\n",
    "# Ollo ao tipo!!! <- array\n",
    "\n",
    "# buscar función unique na documentación de pandas, a quen lle corresponde?"
   ]
  },
  {
   "cell_type": "code",
   "execution_count": null,
   "id": "fb700035-1c66-41f8-be04-27f774c37b59",
   "metadata": {},
   "outputs": [],
   "source": [
    "# Contar elementos\n",
    "# Non é o mesmo contar os elementos dunha serie que contar os elementos dun array\n",
    "\n",
    "#df.Concello.count()\n",
    "#len(df.Concello.unique())"
   ]
  },
  {
   "cell_type": "code",
   "execution_count": null,
   "id": "932db815-3c8f-420a-83c4-abd48df56188",
   "metadata": {},
   "outputs": [],
   "source": [
    "# Asignando columnas a novas variables (Series)\n",
    "concellos = df.Concello\n",
    "concellos"
   ]
  },
  {
   "cell_type": "code",
   "execution_count": null,
   "id": "c448b0ae-0692-47b5-b1b5-3e595cdb524f",
   "metadata": {},
   "outputs": [],
   "source": [
    "# Aplicando condicións a Series\n",
    "df.Concello == 'Ames'"
   ]
  },
  {
   "cell_type": "code",
   "execution_count": null,
   "id": "c5ec2bd0-7d1e-4b40-aadb-d3efa74d8836",
   "metadata": {},
   "outputs": [],
   "source": [
    "# Seleccionar algunhas filas indicando o seu index\n",
    "#df.iloc[[0,1,3,5]]\n",
    "df.loc[[0,1,3,5]]"
   ]
  },
  {
   "cell_type": "code",
   "execution_count": null,
   "id": "47125167-921f-4459-a51b-c59f782a4b45",
   "metadata": {},
   "outputs": [],
   "source": [
    "# Seleccionar as filas que cumpren unha condición\n",
    "df[df.Concello == 'Ames']"
   ]
  },
  {
   "cell_type": "code",
   "execution_count": null,
   "id": "8da7cfa1-5924-4082-bb8d-8d87f9e45151",
   "metadata": {},
   "outputs": [],
   "source": [
    "# Seleccionar os centros de tipo IES ('Tipo de centro')\n",
    "serie_indices = df['Tipo de centro'] == 'IES'\n",
    "df[serie_indices]"
   ]
  },
  {
   "cell_type": "code",
   "execution_count": null,
   "id": "08bda7b8-11a6-4665-a179-01ce3d603a85",
   "metadata": {},
   "outputs": [],
   "source": [
    "# Crear un dataframe con todas as escolas de idiomas\n",
    "eois = df[df['Tipo de centro'] == 'EOI']\n",
    "eois"
   ]
  },
  {
   "cell_type": "code",
   "execution_count": null,
   "id": "fb6d01ae-9d55-489e-bcd5-d84444c6e07b",
   "metadata": {},
   "outputs": [],
   "source": [
    "# Crear un dataframe con todas as escolas de idiomas da Coruña ou Conservatorios (CMUS)\n",
    "eois = df[(df['Tipo de centro'] == 'EOI') | (df['Tipo de centro'] == 'CMUS')  ]\n",
    "eois"
   ]
  },
  {
   "cell_type": "code",
   "execution_count": null,
   "id": "145fb6e0-7846-4107-b3dd-5730069f8280",
   "metadata": {},
   "outputs": [],
   "source": [
    "# Seleccionar e mostrar todos os IES de Santiago\n",
    "df[(df['Tipo de centro'] == 'IES') & (df['Concello'] == 'Santiago de Compostela') ]\n"
   ]
  },
  {
   "cell_type": "code",
   "execution_count": null,
   "id": "8f60599c-3839-4ef5-8a90-d5a860747647",
   "metadata": {},
   "outputs": [],
   "source": [
    "# crea un dataframe co Nome, Enderezo e Tipo de centro de todos os centros de Ferrol\n",
    "centros_ferrol = df[df.Concello == 'Ferrol']\n",
    "centros_ferrol = centros_ferrol[['Nome','Enderezo','Tipo de centro']]\n",
    "#ou directamente\n",
    "#centros_ferrol = df[df.Concello == 'Ferrol'][['Nome','Enderezo','Tipo de centro']]\n",
    "centros_ferrol"
   ]
  },
  {
   "cell_type": "code",
   "execution_count": null,
   "id": "54a00a68-7381-4cdf-bc8f-160b2ceb8ae5",
   "metadata": {},
   "outputs": [],
   "source": [
    "# Seleccionar algunha fila atendendo á posición\n",
    "#centros_ferrol.iloc[0]\n",
    "centros_ferrol.iloc[1]"
   ]
  },
  {
   "cell_type": "code",
   "execution_count": null,
   "id": "9937abb9-c1d2-4ff0-ab20-ef84d1afe9d8",
   "metadata": {},
   "outputs": [],
   "source": [
    "# Seleccionar algunha fila atendendo ao index\n",
    "#centros_ferrol.loc[104]\n",
    "centros_ferrol.loc[105]"
   ]
  },
  {
   "cell_type": "code",
   "execution_count": null,
   "id": "5cbbd14e-30e1-4b28-bb3c-5602e54bbd7f",
   "metadata": {
    "tags": []
   },
   "outputs": [],
   "source": [
    "# Chegados a este punto, vemos que sería interesante que o index fose o código do centro\n",
    "df = pd.read_excel(ficheiro,index_col='Código')\n",
    "df.head()"
   ]
  },
  {
   "cell_type": "code",
   "execution_count": null,
   "id": "8fda73bb-5fc6-4346-8042-94e6fc09290a",
   "metadata": {},
   "outputs": [],
   "source": [
    "# Seleccionar a primeira fila\n",
    "df.iloc[0]\n",
    "#df.loc[15000016]"
   ]
  },
  {
   "cell_type": "code",
   "execution_count": null,
   "id": "0ee468f8-2dd9-454b-a743-4c425399f531",
   "metadata": {},
   "outputs": [],
   "source": [
    "# Seleccionar as 4 primeiras filas\n",
    "df.iloc[0:4]"
   ]
  },
  {
   "cell_type": "code",
   "execution_count": null,
   "id": "21e54170-f942-4029-b23b-7813e840172d",
   "metadata": {},
   "outputs": [],
   "source": [
    "# Seleccionar a última fila\n",
    "df.iloc[[-1]]\n",
    "#df.tail(1)"
   ]
  },
  {
   "cell_type": "code",
   "execution_count": null,
   "id": "0fddec11-dd08-47ed-b1d8-492968eff7e2",
   "metadata": {},
   "outputs": [],
   "source": [
    "# Seleccionar as 2 últimas filas\n",
    "df.iloc[-2:]"
   ]
  },
  {
   "cell_type": "code",
   "execution_count": null,
   "id": "9b581a7f-bbf7-4e6e-b04d-a429002ea3aa",
   "metadata": {},
   "outputs": [],
   "source": [
    "# Seleccionar o centro 15033204\n",
    "# selección por índice\n",
    "\n",
    "df.loc[[15033204]]"
   ]
  },
  {
   "cell_type": "code",
   "execution_count": null,
   "id": "cf3d367a-be5c-4332-be05-591e72c693f9",
   "metadata": {},
   "outputs": [],
   "source": [
    "# Seleccionar os centros 15033150, 15033162\n",
    "df.loc[[15033150, 15033162]]"
   ]
  },
  {
   "cell_type": "code",
   "execution_count": null,
   "id": "78f93b44-dbbc-43fd-8a08-b2b218d21567",
   "metadata": {},
   "outputs": [],
   "source": [
    "# Dependendo do que precisemos usaremos loc ou iloc\n",
    "# loc <- traballa con index/labels\n",
    "# iloc <- traballa con posicións"
   ]
  },
  {
   "cell_type": "code",
   "execution_count": null,
   "id": "cb66817d-e73b-44d9-982c-19d325bc2953",
   "metadata": {},
   "outputs": [],
   "source": [
    "# Escritura dun ficheiro XLS cos centros de tipo CEIP\n",
    "centros_ceip = df[df['Tipo de centro'] == 'CEIP']\n",
    "#centros_ceip.head()\n",
    "#centros_ceip.to_excel('output/ceip_ferrol.xls')\n",
    "centros_ceip.to_excel('output/ceip_ferrol.xlsx')"
   ]
  },
  {
   "cell_type": "code",
   "execution_count": null,
   "id": "e43b8e8c-d4a8-4704-904b-9ed98dff8835",
   "metadata": {},
   "outputs": [],
   "source": [
    "# Darlle un nome á folla\n",
    "centros_ceip.to_excel('output/ceip_ferrol.xlsx',sheet_name='A Coruña')"
   ]
  },
  {
   "cell_type": "code",
   "execution_count": null,
   "id": "dd138373-0393-4851-b6ea-b6b5733fbdfc",
   "metadata": {},
   "outputs": [],
   "source": [
    "# Ao abrir os documentos tamén podemos indicar con que folla queremos traballar\n",
    "ficheiro = '../datasets/centros_educativos_galicia.xls'\n",
    "df_corunha = pd.read_excel(ficheiro,sheet_name='A Coruña')\n",
    "df_lugo = pd.read_excel(ficheiro,sheet_name='Lugo')"
   ]
  },
  {
   "cell_type": "code",
   "execution_count": null,
   "id": "937e8147-5e84-46ea-a319-16c5e9f788a3",
   "metadata": {},
   "outputs": [],
   "source": [
    "df_corunha.sample()\n",
    "#df_lugo.sample()"
   ]
  },
  {
   "cell_type": "code",
   "execution_count": null,
   "id": "4615710e-5914-4d85-9daa-5bde7fcd18f0",
   "metadata": {},
   "outputs": [],
   "source": [
    "# Concatenar dataframes (similar a concatenar Series)\n",
    "df_total = pd.concat([df_corunha,df_lugo])\n",
    "df_total"
   ]
  },
  {
   "cell_type": "code",
   "execution_count": null,
   "id": "2fde6754-647c-4be7-ad0e-9ceb51a027bf",
   "metadata": {},
   "outputs": [],
   "source": [
    "# Gardar CPR's das dúas provincias nun único ficheiro\n",
    "# Unicamente os seguintes campos: Código, nome, enderezo, concello, provincia, código postal e teléfono\n",
    "df_total[df_total['Tipo de centro'] == 'CPR'][['Código','Nome', 'Enderezo', 'Concello', 'Provincia', 'Cód. postal', 'Teléfono']].to_excel('output/centros_CPR.xlsx',sheet_name='CPR',index='Código')"
   ]
  }
 ],
 "metadata": {
  "kernelspec": {
   "display_name": "Python 3.8.10 64-bit",
   "language": "python",
   "name": "python3"
  },
  "language_info": {
   "codemirror_mode": {
    "name": "ipython",
    "version": 3
   },
   "file_extension": ".py",
   "mimetype": "text/x-python",
   "name": "python",
   "nbconvert_exporter": "python",
   "pygments_lexer": "ipython3",
   "version": "3.8.10"
  },
  "vscode": {
   "interpreter": {
    "hash": "916dbcbb3f70747c44a77c7bcd40155683ae19c65e1c03b4aa3499c5328201f1"
   }
  }
 },
 "nbformat": 4,
 "nbformat_minor": 5
}
