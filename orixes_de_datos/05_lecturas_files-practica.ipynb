{
 "cells": [
  {
   "cell_type": "code",
   "execution_count": 1,
   "id": "1e7f7d2b-d89c-49d6-a5dd-3cc5157c449d",
   "metadata": {},
   "outputs": [],
   "source": [
    "# Documentación libraría pandas\n",
    "# https://pandas.pydata.org/docs/index.html\n",
    "# importar libraría pandas\n"
   ]
  },
  {
   "cell_type": "code",
   "execution_count": 2,
   "id": "8724e9f0-c112-4607-b51d-be5e10fdbe21",
   "metadata": {},
   "outputs": [],
   "source": [
    "# https://rubenfcasal.github.io/COVID-19/\n",
    "# https://cnecovid.isciii.es/covid19/resources/casos_hosp_uci_def_sexo_edad_provres.csv\n",
    "# Metadata: https://cnecovid.isciii.es/covid19/resources/metadata_diag_ccaa_decl_prov_edad_sexo.pdf\n",
    "# Ficheiro CSV comprimido de 3.9MB\n"
   ]
  },
  {
   "cell_type": "code",
   "execution_count": 3,
   "id": "7384a50e-31cb-485e-a813-0469189068ba",
   "metadata": {},
   "outputs": [],
   "source": [
    "# Mostrar Número de filas e columnas\n"
   ]
  },
  {
   "cell_type": "code",
   "execution_count": 4,
   "id": "6a6c4555-c6ab-4763-be35-f1156b32f451",
   "metadata": {},
   "outputs": [],
   "source": [
    "# Bótalle un ollo aos datos\n"
   ]
  },
  {
   "cell_type": "code",
   "execution_count": 5,
   "id": "bceb4a0e-e290-48b4-b9ed-fe2b88f1f60f",
   "metadata": {},
   "outputs": [],
   "source": [
    "# Salva os datos a formato .parquet e compara os tamaños do parquet, zip e csv\n"
   ]
  },
  {
   "cell_type": "code",
   "execution_count": 6,
   "id": "5d61b464-1f4a-479c-9922-13d836772733",
   "metadata": {},
   "outputs": [],
   "source": [
    "# Indica os pesos dos diferentes ficheiros\n",
    "# csv: \n",
    "# zip:\n",
    "# parquet:"
   ]
  },
  {
   "cell_type": "code",
   "execution_count": 7,
   "id": "46902355-67e7-4e9d-b93f-acbe98e2e989",
   "metadata": {
    "tags": []
   },
   "outputs": [],
   "source": [
    "# Carga o dataset do titanic\n"
   ]
  },
  {
   "cell_type": "code",
   "execution_count": 8,
   "id": "4cb62ba5-9d2e-4883-9f60-b4ce0ae65918",
   "metadata": {},
   "outputs": [],
   "source": [
    "# Gardar o resultado nun novo ficheiro JSON\n"
   ]
  },
  {
   "cell_type": "code",
   "execution_count": 9,
   "id": "d16e7359-6b08-4f16-bf17-6d481fa28b8c",
   "metadata": {},
   "outputs": [],
   "source": [
    "# Abrir e revisar o novo ficheiro creado cun visor de texto\n",
    "# Fíxate como se almacenan os datos"
   ]
  },
  {
   "cell_type": "code",
   "execution_count": 10,
   "id": "b1fe01e3-499b-4008-8bf1-57c0b6831304",
   "metadata": {},
   "outputs": [],
   "source": [
    "# Mostra as mulleres supervivintes de máis de 50 anos\n"
   ]
  },
  {
   "cell_type": "code",
   "execution_count": 11,
   "id": "24ba4659-ad5f-4bda-b506-b0ce3ba4d3ad",
   "metadata": {},
   "outputs": [],
   "source": [
    "# Mostra os home supervivintes de máis de 50 anos\n"
   ]
  },
  {
   "cell_type": "code",
   "execution_count": 12,
   "id": "e017028e-de9d-493d-8fc1-1a3aadb99fbe",
   "metadata": {},
   "outputs": [],
   "source": [
    "## Podemos responder preguntas que nos facemos sobre os datos"
   ]
  },
  {
   "cell_type": "code",
   "execution_count": 13,
   "id": "90b1e99a-0b99-4560-b9a4-a68d88eefa5d",
   "metadata": {},
   "outputs": [],
   "source": [
    "# Cales eran as categorías de pasaxeiros no barco?\n"
   ]
  },
  {
   "cell_type": "code",
   "execution_count": 14,
   "id": "12b42d2b-15ef-40fb-8db2-d4cb1215bcb9",
   "metadata": {},
   "outputs": [],
   "source": [
    "# Pregunta: Cantas persoas sobreviviron de primeira clase\n"
   ]
  },
  {
   "cell_type": "code",
   "execution_count": 15,
   "id": "5e5eda8f-3157-436e-9e24-9ff852dabf34",
   "metadata": {},
   "outputs": [],
   "source": [
    "# Pregunta: Cantas persoas sobreviviron da clase máis baixa\n"
   ]
  },
  {
   "cell_type": "code",
   "execution_count": 16,
   "id": "4a668e66-a4e2-4da9-9b76-64b34bca2fb5",
   "metadata": {},
   "outputs": [],
   "source": [
    "# Importar libraría geopandas\n"
   ]
  },
  {
   "cell_type": "code",
   "execution_count": 17,
   "id": "c7a2e830-ad25-40c7-adc6-371bf51b29e2",
   "metadata": {},
   "outputs": [],
   "source": [
    "# Mapas interesantes\n",
    "# https://hub.arcgis.com/datasets/ad61dcd7dd244d4096c22a49cc97011f/about\n"
   ]
  },
  {
   "cell_type": "code",
   "execution_count": 18,
   "id": "83c219d1-a3da-4d03-94e5-cfd0363efd33",
   "metadata": {},
   "outputs": [],
   "source": [
    "# Cantos países hai no mundo?\n"
   ]
  },
  {
   "cell_type": "code",
   "execution_count": 19,
   "id": "96765fd7-1e5c-4037-96f0-6eee918bdf8c",
   "metadata": {},
   "outputs": [],
   "source": [
    "# pinta o mundo\n"
   ]
  },
  {
   "cell_type": "code",
   "execution_count": 20,
   "id": "3f76ed16-af48-4f27-87ca-eb2fd7a013fd",
   "metadata": {},
   "outputs": [],
   "source": [
    "# pinta España\n"
   ]
  },
  {
   "cell_type": "code",
   "execution_count": 21,
   "id": "b962ac53-ba57-4185-9692-9a27f03df256",
   "metadata": {},
   "outputs": [],
   "source": [
    "# Pinta España, Francia, Portugal e Italia\n"
   ]
  },
  {
   "cell_type": "code",
   "execution_count": null,
   "id": "2c967f21-2487-40c7-a669-c5b3493af010",
   "metadata": {
    "tags": []
   },
   "outputs": [],
   "source": [
    "# Descarga o mapa do estado con datos sobre seccións censais, etc..\n",
    "# Carga e pinta o mapa\n",
    "# https://www.ine.es/ss/Satellite?L=es_ES&c=Page&cid=1259952026632&p=1259952026632&pagename=ProductosYServicios%2FPYSLayout\n"
   ]
  },
  {
   "cell_type": "code",
   "execution_count": null,
   "id": "ce05c469-66d8-4227-a3b9-4d3a1e4b764f",
   "metadata": {
    "tags": []
   },
   "outputs": [],
   "source": [
    "# Bótalle unha ollada aos datos\n"
   ]
  },
  {
   "cell_type": "code",
   "execution_count": null,
   "id": "7dec8136-cd7b-4e1b-8ece-6d9718eb8499",
   "metadata": {},
   "outputs": [],
   "source": [
    "# Pinta un mapa de Galicia\n"
   ]
  },
  {
   "cell_type": "code",
   "execution_count": null,
   "id": "19be27e7-bd26-4011-9c3a-a8f1ec2d11b9",
   "metadata": {},
   "outputs": [],
   "source": [
    "# Pinta un mapa do concello da Coruña\n"
   ]
  }
 ],
 "metadata": {
  "kernelspec": {
   "display_name": "Python 3.8.10 64-bit",
   "language": "python",
   "name": "python3"
  },
  "language_info": {
   "codemirror_mode": {
    "name": "ipython",
    "version": 3
   },
   "file_extension": ".py",
   "mimetype": "text/x-python",
   "name": "python",
   "nbconvert_exporter": "python",
   "pygments_lexer": "ipython3",
   "version": "3.8.10"
  },
  "vscode": {
   "interpreter": {
    "hash": "916dbcbb3f70747c44a77c7bcd40155683ae19c65e1c03b4aa3499c5328201f1"
   }
  }
 },
 "nbformat": 4,
 "nbformat_minor": 5
}
