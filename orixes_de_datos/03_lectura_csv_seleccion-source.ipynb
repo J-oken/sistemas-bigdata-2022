{
 "cells": [
  {
   "cell_type": "code",
   "execution_count": null,
   "metadata": {},
   "outputs": [],
   "source": [
    "# Documentación libraría pandas\n",
    "# https://pandas.pydata.org/docs/index.html\n",
    "#importar libraría pandas\n",
    "import pandas as pd"
   ]
  },
  {
   "cell_type": "code",
   "execution_count": null,
   "metadata": {},
   "outputs": [],
   "source": [
    "# dataset con datos de poboacións dos concellos galegos \n",
    "# Fonte: IGE\n",
    "# Abre o ficheiro desde o filesystem local\n",
    "df_concellos = pd.read_csv(('../datasets/concellos_con_poboacion.csv'))"
   ]
  },
  {
   "cell_type": "code",
   "execution_count": null,
   "metadata": {},
   "outputs": [],
   "source": [
    "df_concellos"
   ]
  },
  {
   "cell_type": "code",
   "execution_count": null,
   "metadata": {},
   "outputs": [],
   "source": [
    "# Seleccionar columnas de concello e poboación\n",
    "df_concellos[['Concello','poboacion']]"
   ]
  },
  {
   "cell_type": "code",
   "execution_count": null,
   "metadata": {},
   "outputs": [],
   "source": [
    "# Seleccionar columnas de concello e CODIGOINE\n",
    "df_concellos[['Concello','CODIGOINE']]"
   ]
  },
  {
   "cell_type": "code",
   "execution_count": null,
   "metadata": {},
   "outputs": [],
   "source": [
    "# Seleccionar 3 primeiras filas\n",
    "df_concellos.head(3)"
   ]
  },
  {
   "cell_type": "code",
   "execution_count": null,
   "metadata": {},
   "outputs": [],
   "source": [
    "# Seleccionar a 2ª fila\n",
    "# Empezamos a contar por 0\n",
    "df_concellos.iloc[[1]]"
   ]
  },
  {
   "cell_type": "code",
   "execution_count": null,
   "metadata": {},
   "outputs": [],
   "source": [
    "# Seleccionar a 2ª fila\n",
    "# iloc selecciona a fila cuxo índice lle indicamos\n",
    "df_concellos.loc[[1]]"
   ]
  },
  {
   "cell_type": "code",
   "execution_count": null,
   "metadata": {},
   "outputs": [],
   "source": [
    "# Cargamos de novo o dataset, pero utilizando os concellos como índice\n",
    "df_concellos2 = pd.read_csv(('../datasets/concellos_con_poboacion.csv'),index_col='Concello')"
   ]
  },
  {
   "cell_type": "code",
   "execution_count": null,
   "metadata": {},
   "outputs": [],
   "source": [
    "df_concellos2"
   ]
  },
  {
   "cell_type": "code",
   "execution_count": null,
   "metadata": {},
   "outputs": [],
   "source": [
    "# Seleccionar a 2ª fila\n",
    "# Empezamos a contar por 0\n",
    "df_concellos2.iloc[[1]]"
   ]
  },
  {
   "cell_type": "code",
   "execution_count": null,
   "metadata": {},
   "outputs": [],
   "source": [
    "# Seleccionar a 2ª fila\n",
    "# iloc selecciona a fila cuxo índice lle indicamos\n",
    "df_concellos2.loc[[1]]     #falla, porque '1' non é o elemento de ningún índice"
   ]
  },
  {
   "cell_type": "code",
   "execution_count": null,
   "metadata": {},
   "outputs": [],
   "source": [
    "# Seleccionar a 2ª fila   <<< 'Taboadela'\n",
    "df_concellos2.loc[['Taboadela']]"
   ]
  },
  {
   "cell_type": "code",
   "execution_count": null,
   "metadata": {},
   "outputs": [],
   "source": [
    "# Cando utilizar loc e cando utilizar iloc??\n",
    "\n",
    "# loc: cando coñecemos os índices e queremos buscar algo en concreto (se é texto), cando queremos seleccionar rangos que non se \n",
    "#      corresponden coa orde no dataframe, ...\n",
    "#\n",
    "# iloc: cando queremos seleccionar filas segundo a posición no dataset ou rangos de filas en función da súa posición\n"
   ]
  },
  {
   "cell_type": "code",
   "execution_count": null,
   "metadata": {},
   "outputs": [],
   "source": [
    "df_concellos2"
   ]
  },
  {
   "cell_type": "code",
   "execution_count": null,
   "metadata": {},
   "outputs": [],
   "source": [
    "# Seleccionar varias filas independentes\n",
    "df_concellos2.iloc[[1,3,5]]"
   ]
  },
  {
   "cell_type": "code",
   "execution_count": null,
   "metadata": {},
   "outputs": [],
   "source": [
    "# Seleccionar varias filas independentes\n",
    "df_concellos2.loc[['Taboadela','Maside','Carballeda de Avia']]"
   ]
  },
  {
   "cell_type": "code",
   "execution_count": null,
   "metadata": {},
   "outputs": [],
   "source": [
    "# Seleccionar un rango de filas\n",
    "df_concellos2.iloc[0:5]"
   ]
  },
  {
   "cell_type": "code",
   "execution_count": null,
   "metadata": {},
   "outputs": [],
   "source": [
    "# Seleccionar cela [fila,columna (sen contar index)]\n",
    "df_concellos2.iloc[0,1]"
   ]
  }
 ],
 "metadata": {
  "kernelspec": {
   "display_name": "Python 3.8.10 64-bit",
   "language": "python",
   "name": "python3"
  },
  "language_info": {
   "codemirror_mode": {
    "name": "ipython",
    "version": 3
   },
   "file_extension": ".py",
   "mimetype": "text/x-python",
   "name": "python",
   "nbconvert_exporter": "python",
   "pygments_lexer": "ipython3",
   "version": "3.8.10"
  },
  "orig_nbformat": 4,
  "vscode": {
   "interpreter": {
    "hash": "916dbcbb3f70747c44a77c7bcd40155683ae19c65e1c03b4aa3499c5328201f1"
   }
  }
 },
 "nbformat": 4,
 "nbformat_minor": 2
}
