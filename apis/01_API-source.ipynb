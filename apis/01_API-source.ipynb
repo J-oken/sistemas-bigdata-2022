{
 "cells": [
  {
   "cell_type": "markdown",
   "id": "0765d326-8bbd-4848-9bbc-cbade94387a6",
   "metadata": {},
   "source": [
    "### API's"
   ]
  },
  {
   "cell_type": "markdown",
   "id": "4b33c1ff-4060-4408-8cbe-597d549297cb",
   "metadata": {},
   "source": [
    "Las APIs utilízanse para acceder a datos, servizos ou facilitar a comunicación entre programas\n",
    "\n",
    "Son moi útiles nalgús dos seguintes casos:\n",
    "* Datos que cambian moi rapidamente. Por exemplo: datos meteorolóxicos ou do estado da bolsa\n",
    "* Precisamos só conxuntos mais pequenos do conxunto de datos. Por exemplo: tweet dunha única conta.\n",
    "* Consumo dun servizo especializado. Por exemplo, xeocodificación\n",
    "\n",
    "As APIs devolven os resultados en formatos como XML e sobre todo **JSON**.\n",
    "\n",
    "Exemplos de JSON vs XML https://www.json.org/example.html"
   ]
  },
  {
   "attachments": {},
   "cell_type": "markdown",
   "id": "56005280",
   "metadata": {},
   "source": [
    "Que é unha API e en concreto unha API Rest???\n",
    "\n",
    "https://dossetenta.com/que-es-una-api-rest/\n",
    "\n",
    "https://www.ibm.com/es-es/cloud/learn/rest-apis"
   ]
  },
  {
   "attachments": {},
   "cell_type": "markdown",
   "id": "4f9397d8",
   "metadata": {},
   "source": [
    "![imaxe-API-REST](img/imaxe_api_rest.png)"
   ]
  },
  {
   "cell_type": "code",
   "execution_count": null,
   "id": "5b298500-6912-4bfb-a72f-602d5379fba6",
   "metadata": {},
   "outputs": [],
   "source": [
    "# Libraría requests\n",
    "# A libraría requests é a libraría principal de python para traballar con APIs\n",
    "import requests"
   ]
  },
  {
   "cell_type": "code",
   "execution_count": null,
   "id": "95a0aaa3-ea40-4e5e-8078-cec463223e92",
   "metadata": {},
   "outputs": [],
   "source": [
    "# Utilizaremos diferentes APIs para practicar coa libraría request\n",
    "# As APIs soen estar documentadas para axudarnos a entender como traballar con elas\n",
    "# Polo xeral seguen os estándares REST\n",
    "\n",
    "# Para traballar con APIs é fundamental coñecer a súa url\n",
    "# Falamos de endpoint como o punto no que nos comunicamos coa API"
   ]
  },
  {
   "cell_type": "code",
   "execution_count": null,
   "id": "71e58e58-2738-4659-994d-d6bec6c3f227",
   "metadata": {},
   "outputs": [],
   "source": [
    "# GitHub proporciona unha API para acceder aos seus datos\n",
    "# GitHub REST API\n",
    "# Documentación: https://docs.github.com/en/rest#root-endpoint\n",
    "# Lista de endpoints: https://docs.github.com/en/rest/overview/endpoints-available-for-github-apps\n",
    "\n",
    "endpoint = 'https://api.github.com'"
   ]
  },
  {
   "cell_type": "code",
   "execution_count": null,
   "id": "6c50dc1d-2766-49e1-86bb-f07a968a1656",
   "metadata": {},
   "outputs": [],
   "source": [
    "# Contra unha API podemos executar diferentes métodos: GET, POST, DELETE.... \n",
    "# Centrarémonos no uso de GET para obter datos da API\n",
    "\n",
    "requests.get(endpoint)"
   ]
  },
  {
   "attachments": {},
   "cell_type": "markdown",
   "id": "472e8304-e4d8-4046-afbb-e1315baf3c81",
   "metadata": {},
   "source": [
    "### Response\n",
    "\n",
    "A execución dunha petición GET pode devolver diferentes valores.\n",
    "\n",
    "O _status code_ indícanos se a petición tivo éxito e, en caso de erro, danos información sobre as súas causas.\n",
    "Algúns códigos son:\n",
    "* 200: éxito\n",
    "* 300: redirección\n",
    "* 400: petición incorrecta\n",
    "* 401: erro na autenticación\n",
    "* 403: sen permisos ou credenciais incorrectas\n",
    "* 404: o recurso non existe\n",
    "* 500: o servidor deu un erro\n",
    "\n",
    "Listaxe completa de códigos: [aquí](https://en.wikipedia.org/wiki/List_of_HTTP_status_codes)\n",
    "\n",
    "Tal vez che guste máis esta lista: [httpstatusdogs](https://httpstatusdogs.com/)"
   ]
  },
  {
   "cell_type": "code",
   "execution_count": null,
   "id": "57e5ca40-acd5-4226-9d0d-3ba17ef1c379",
   "metadata": {},
   "outputs": [],
   "source": [
    "# Consultar o status code\n",
    "response = requests.get(endpoint)\n",
    "response.status_code"
   ]
  },
  {
   "cell_type": "code",
   "execution_count": null,
   "id": "db3c1dad-6ae3-4238-85c2-1b3d5ff8b4ca",
   "metadata": {},
   "outputs": [],
   "source": [
    "# Controlar a resposta da API\n",
    "if response.status_code == 200:\n",
    "    print('Funciona!')\n",
    "else:\n",
    "    print('Non funciona')    "
   ]
  },
  {
   "cell_type": "code",
   "execution_count": null,
   "id": "0289a17f-2abb-4809-a07f-77d16b421be6",
   "metadata": {},
   "outputs": [],
   "source": [
    "# Forzar unha situación de erro\n",
    "# Ollo, pode ser necesario utilizar excepcións\n",
    "url_invalida = 'https://api.github.com/2'\n",
    "\n",
    "response = requests.get(url_invalida)\n",
    "\n",
    "if response.status_code == 200:\n",
    "    print('Funciona!')\n",
    "else:\n",
    "    print('Non funciona')  "
   ]
  },
  {
   "cell_type": "code",
   "execution_count": null,
   "id": "60cac7c7-896f-472c-8992-b85f82f233ed",
   "metadata": {},
   "outputs": [],
   "source": [
    "response.status_code"
   ]
  },
  {
   "cell_type": "code",
   "execution_count": null,
   "id": "c31d8e0d-0b50-43d8-838d-439867419913",
   "metadata": {},
   "outputs": [],
   "source": [
    "# O interesante das APIS non é tanto o estado da resposta, senón o contido que nos devolven\n",
    "# Todo queda almacenado en \"response\" ou na variable á que asignemos o resultado\n",
    "\n",
    "endpoint = 'https://api.github.com'\n",
    "response = requests.get(endpoint)\n",
    "response.content"
   ]
  },
  {
   "cell_type": "code",
   "execution_count": null,
   "id": "13aff9ff-7720-4596-8b7a-8eaf24e2a303",
   "metadata": {},
   "outputs": [],
   "source": [
    "# .content devolve o resultado como un \"chorro\" de bytes  (de aí o b' do inicio)\n",
    "# Podes mostrar o resultado como un texto\n",
    "response.text"
   ]
  },
  {
   "cell_type": "code",
   "execution_count": null,
   "id": "2df44f36-4dac-4a7e-8e19-46301b381fc0",
   "metadata": {},
   "outputs": [],
   "source": [
    "# .text pode que tampouco axude moito\n",
    "# Como se pode observar, trátase dun obxecto JSON, polo que unha boa idea será interpretalo como tal\n",
    "response.json()"
   ]
  },
  {
   "cell_type": "code",
   "execution_count": null,
   "id": "1c4e253a-2c77-4283-887b-c9a2f6f4194b",
   "metadata": {},
   "outputs": [],
   "source": [
    "# O tipo da resposta é un diccionario de python, polo que se pode acceder aos datos como tal\n",
    "type(response.json())"
   ]
  },
  {
   "cell_type": "code",
   "execution_count": null,
   "id": "44b27bf9-59c5-49df-8a56-7a9eb555d88f",
   "metadata": {},
   "outputs": [],
   "source": [
    "# Pode accederse a calquera valor a través do seu nome\n",
    "response_dict = response.json()\n",
    "response_dict['current_user_url']"
   ]
  },
  {
   "cell_type": "code",
   "execution_count": null,
   "id": "d87fb585-59ee-4bf4-bec0-288ba64f613f",
   "metadata": {},
   "outputs": [],
   "source": [
    "response_dict['keys_url']"
   ]
  },
  {
   "cell_type": "code",
   "execution_count": null,
   "id": "f80b3161-abf9-471c-b171-dd0687aee6f2",
   "metadata": {},
   "outputs": [],
   "source": [
    "# Tamén directamente, sen necesidade de crear unha nova variable\n",
    "response.json()['emails_url']"
   ]
  },
  {
   "cell_type": "code",
   "execution_count": null,
   "id": "85546b80-544d-41bc-85c4-84c0f0a6d8d9",
   "metadata": {},
   "outputs": [],
   "source": [
    "# Probas con outra API diferente\n",
    "# Revisa a páxina web para ver os endpoints\n",
    "endpoint = 'https://httpbin.org/get'"
   ]
  },
  {
   "cell_type": "code",
   "execution_count": null,
   "id": "17b6dbe9-ce1e-436b-806e-03d7166c03d1",
   "metadata": {},
   "outputs": [],
   "source": [
    "response = requests.get(endpoint)\n",
    "response.json()"
   ]
  },
  {
   "cell_type": "code",
   "execution_count": null,
   "id": "1932df1d-ab76-4801-84bb-2df2847188c8",
   "metadata": {},
   "outputs": [],
   "source": [
    "# HTTPBIN pode instalarse en local grazas a docker\n",
    "endpoint = 'http://localhost/get'\n",
    "response = requests.get(endpoint)\n",
    "response.json()"
   ]
  },
  {
   "cell_type": "code",
   "execution_count": null,
   "id": "241e0138-b844-4ec3-9b30-3ee5f712b07f",
   "metadata": {},
   "outputs": [],
   "source": [
    "# Os headers ou cabeceiras son unha parte da resposta dunha API.\n",
    "# Poden facilitarnos información interesante\n",
    "response.headers"
   ]
  },
  {
   "cell_type": "code",
   "execution_count": null,
   "id": "fe605560-383e-476e-aef1-7e3b429b0d47",
   "metadata": {},
   "outputs": [],
   "source": [
    "# Verificando algunha información sobre o contido\n",
    "len(response.text)"
   ]
  },
  {
   "cell_type": "code",
   "execution_count": null,
   "id": "49c7c7d3-a8ac-45af-a64c-ad54f3ff8c7c",
   "metadata": {},
   "outputs": [],
   "source": [
    "type(response.headers)"
   ]
  },
  {
   "cell_type": "code",
   "execution_count": null,
   "id": "7d29608a-4ac8-4d19-9312-579402bb009a",
   "metadata": {},
   "outputs": [],
   "source": [
    "# Podemos acceder á información dos headers como accedemos a un diccionario\n",
    "response.headers['Server']"
   ]
  },
  {
   "cell_type": "code",
   "execution_count": null,
   "id": "6bf375e9-fad4-4359-9779-fbbb54d83f4f",
   "metadata": {},
   "outputs": [],
   "source": [
    "endpoint = 'https://httpbin.org/get'\n",
    "response = requests.get(endpoint)\n",
    "response.headers"
   ]
  },
  {
   "cell_type": "code",
   "execution_count": null,
   "id": "6dd0eb55-7e12-4020-9b41-bca3a38f33c3",
   "metadata": {},
   "outputs": [],
   "source": [
    "# Podemos acceder á información dos headers como accedemos a un diccionario\n",
    "response.headers['Server']"
   ]
  },
  {
   "cell_type": "code",
   "execution_count": null,
   "id": "086000b1-d3ed-41b0-989c-9b950d4e3eb2",
   "metadata": {},
   "outputs": [],
   "source": [
    "response.headers['content-type']"
   ]
  },
  {
   "cell_type": "code",
   "execution_count": null,
   "id": "062b0bcf-c75a-40e2-8ca5-e30cfae33612",
   "metadata": {},
   "outputs": [],
   "source": [
    "endpoint = 'https://api.github.com'\n",
    "response = requests.get(endpoint)\n",
    "response.headers"
   ]
  },
  {
   "cell_type": "code",
   "execution_count": null,
   "id": "3fc7788b-8223-41ac-b49c-07ad2dc8a812",
   "metadata": {},
   "outputs": [],
   "source": [
    "# Podemos acceder á información dos headers como accedemos a un diccionario\n",
    "response.headers['Server']"
   ]
  },
  {
   "cell_type": "code",
   "execution_count": null,
   "id": "2f6008a6-6b44-45af-839d-9450f88e5f74",
   "metadata": {},
   "outputs": [],
   "source": [
    "response.headers['content-type']"
   ]
  },
  {
   "cell_type": "code",
   "execution_count": null,
   "id": "c20d12b5-e7c0-4de1-9ae9-1c950fc3ce5e",
   "metadata": {},
   "outputs": [],
   "source": [
    "# Recapitulando...\n",
    "# Conectámos a un ENDPOIND\n",
    "# usamos método GET\n",
    "# Recibimos unha RESPONSE\n",
    "# response ten un STATUS\n",
    "# response ten un CONTENT\n",
    "# response ten uns HEADERS"
   ]
  }
 ],
 "metadata": {
  "kernelspec": {
   "display_name": "sistemas",
   "language": "python",
   "name": "python3"
  },
  "language_info": {
   "codemirror_mode": {
    "name": "ipython",
    "version": 3
   },
   "file_extension": ".py",
   "mimetype": "text/x-python",
   "name": "python",
   "nbconvert_exporter": "python",
   "pygments_lexer": "ipython3",
   "version": "3.8.15 (default, Nov 24 2022, 15:19:38) \n[GCC 11.2.0]"
  },
  "vscode": {
   "interpreter": {
    "hash": "0e884a0ec9feefaf3a914d578a359c036e9f33fc4d2669d69b11c8c204f1f6a8"
   }
  }
 },
 "nbformat": 4,
 "nbformat_minor": 5
}
