{
 "cells": [
  {
   "cell_type": "code",
   "execution_count": 3,
   "id": "5b298500-6912-4bfb-a72f-602d5379fba6",
   "metadata": {},
   "outputs": [],
   "source": [
    "# Importa a libraría para traballar con APIs\n",
    "import request"
   ]
  },
  {
   "cell_type": "code",
   "execution_count": null,
   "id": "71e58e58-2738-4659-994d-d6bec6c3f227",
   "metadata": {},
   "outputs": [],
   "source": [
    "# Configura o endpoint\n",
    "# Páxina con APIs de exemplo: https://sampleapis.com/\n",
    "# Copia o enderezo do endpoint para cafés quentes\n",
    "endpoint = 'https://api.sampleapis.com/beer/stouts'\n"
   ]
  },
  {
   "cell_type": "code",
   "execution_count": null,
   "id": "6c50dc1d-2766-49e1-86bb-f07a968a1656",
   "metadata": {},
   "outputs": [],
   "source": [
    "# fai unha primeira petición contra o endpoint\n",
    "response = request.get(endpoint)"
   ]
  },
  {
   "cell_type": "code",
   "execution_count": null,
   "id": "2c355b0c-1171-4dce-b106-7a24e4310a98",
   "metadata": {},
   "outputs": [],
   "source": [
    "# Verifica o estado da resposta\n"
   ]
  },
  {
   "cell_type": "code",
   "execution_count": null,
   "id": "713707fb-2e4f-4653-9f99-76a4867e8f7b",
   "metadata": {},
   "outputs": [],
   "source": [
    "# Modifica o endpoint e consulta o estado da resposta tras unha petición (provoca algún fallo)\n"
   ]
  },
  {
   "cell_type": "code",
   "execution_count": null,
   "id": "8636f3ee-cab8-496d-ab4b-c166fca6867a",
   "metadata": {},
   "outputs": [],
   "source": [
    "# Volve a consultar o endpoint correcto e comproba o contido (raw) da resposta da API\n"
   ]
  },
  {
   "cell_type": "code",
   "execution_count": null,
   "id": "8cd47564-8d1b-48c1-879b-cf0110e0531e",
   "metadata": {},
   "outputs": [],
   "source": [
    "# visualiza o contido da respoista en formato JSON\n"
   ]
  },
  {
   "cell_type": "code",
   "execution_count": null,
   "id": "dcdb7a34-b820-41b3-aafe-76ebbd47b62b",
   "metadata": {},
   "outputs": [],
   "source": [
    "# Comproba o tipo da resposta\n"
   ]
  },
  {
   "cell_type": "code",
   "execution_count": null,
   "id": "196dd16c-18da-4107-97be-6d1f7dad3156",
   "metadata": {},
   "outputs": [],
   "source": [
    "# Accede ao primeiro elemento da lista\n"
   ]
  },
  {
   "cell_type": "code",
   "execution_count": null,
   "id": "41ae6448-e57e-48b0-8b89-df6da577a477",
   "metadata": {},
   "outputs": [],
   "source": [
    "# Comproba o tipo do primeiro elemento da lista\n"
   ]
  },
  {
   "cell_type": "code",
   "execution_count": null,
   "id": "328b2e18-eea6-4428-bd48-b4dc61feda20",
   "metadata": {},
   "outputs": [],
   "source": [
    "# Consulta o \"title\" do primeiro elemento que devolve o endpoint\n"
   ]
  },
  {
   "cell_type": "code",
   "execution_count": null,
   "id": "a7b1d8e6-7e3e-4ec7-9204-d7ea9f1f0d9c",
   "metadata": {},
   "outputs": [],
   "source": [
    "# Consulta o \"title\" do penúltimo elemento que devolve o endpoint\n"
   ]
  },
  {
   "cell_type": "code",
   "execution_count": null,
   "id": "51198f73-985f-43c6-85b6-2652f8817915",
   "metadata": {},
   "outputs": [],
   "source": []
  },
  {
   "cell_type": "code",
   "execution_count": null,
   "id": "69026c49-17fa-4056-a44f-68ff6b415a06",
   "metadata": {},
   "outputs": [],
   "source": [
    "# Cambia o endepoint e apunta ás películas (movies)\n",
    "# https://sampleapis.com/api-list/movies\n",
    "# Escolle as películas de animación\n",
    "# Mostra o resultado da consulta\n"
   ]
  },
  {
   "cell_type": "code",
   "execution_count": null,
   "id": "1d1bf40a-f619-425c-906d-634cc3728daf",
   "metadata": {},
   "outputs": [],
   "source": [
    "# Conta o número de películas de animación\n"
   ]
  },
  {
   "cell_type": "code",
   "execution_count": null,
   "id": "dd6fa827-4f59-497d-ac06-ab70c6a23692",
   "metadata": {},
   "outputs": [],
   "source": [
    "# Comproba o tipo de servidor que está detrás da API (consulta as cabeceiras)\n"
   ]
  },
  {
   "cell_type": "code",
   "execution_count": null,
   "id": "72077c6c-0337-49eb-b3bf-e7c4e7124156",
   "metadata": {},
   "outputs": [],
   "source": [
    "# Verifica se se trata do mesmo servidor utilizado para a API de cafés\n"
   ]
  },
  {
   "cell_type": "code",
   "execution_count": null,
   "id": "9946cd33-de47-4f11-a78e-0ee2f7b77689",
   "metadata": {},
   "outputs": [],
   "source": []
  },
  {
   "cell_type": "code",
   "execution_count": null,
   "id": "c2781912-fea4-4ea2-aae1-395dd614b076",
   "metadata": {},
   "outputs": [],
   "source": [
    "# Consulta a seguinte información das cabeceiras: Content-Type\n"
   ]
  },
  {
   "cell_type": "markdown",
   "id": "de908d8d-f6ec-4c85-924c-00f7bbfabaf5",
   "metadata": {},
   "source": [
    "### Extra"
   ]
  },
  {
   "cell_type": "code",
   "execution_count": null,
   "id": "009c1c23-3769-467d-a848-059ce9b660df",
   "metadata": {},
   "outputs": [],
   "source": [
    "# Mostra os datos da primeira película\n"
   ]
  },
  {
   "cell_type": "code",
   "execution_count": null,
   "id": "93148307-5955-4d18-9cb9-bc774ef93c73",
   "metadata": {},
   "outputs": [],
   "source": [
    "# Garda a url da imaxe nunha variable\n",
    "imaxeURL = ..."
   ]
  },
  {
   "cell_type": "code",
   "execution_count": null,
   "id": "68270a98-4933-4b77-ab0d-09eda9da24f1",
   "metadata": {},
   "outputs": [],
   "source": [
    "# Mostra a imaxe\n",
    "from IPython import display\n",
    "display.Image(imaxeURL)"
   ]
  }
 ],
 "metadata": {
  "kernelspec": {
   "display_name": "Python 3 (ipykernel)",
   "language": "python",
   "name": "python3"
  },
  "language_info": {
   "codemirror_mode": {
    "name": "ipython",
    "version": 3
   },
   "file_extension": ".py",
   "mimetype": "text/x-python",
   "name": "python",
   "nbconvert_exporter": "python",
   "pygments_lexer": "ipython3",
   "version": "3.9.15"
  }
 },
 "nbformat": 4,
 "nbformat_minor": 5
}
