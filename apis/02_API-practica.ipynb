{
 "cells": [
  {
   "cell_type": "code",
   "execution_count": 2,
   "id": "a32d0751",
   "metadata": {},
   "outputs": [],
   "source": [
    "import requests"
   ]
  },
  {
   "cell_type": "code",
   "execution_count": 7,
   "id": "a4a78c8f-6cdb-4fcd-89f5-729135106c5e",
   "metadata": {},
   "outputs": [],
   "source": [
    "# METEOGALICIA\n",
    "# Busca a documentación para a predición meteorolóxica por concellos a curto prazo (\"Predición por concellos\")\n",
    "# Na páxina principal diríxete a RSS, GeoRSS e JSON\n",
    "# Copia o enderezo do ficheiro PDF\n",
    "# ENLACE AQUÍ:\n",
    "url = \"https://servizos.meteogalicia.gal/mgrss/predicion/jsonPredConcellos.action?idConc=15078\""
   ]
  },
  {
   "cell_type": "code",
   "execution_count": 8,
   "id": "c01f53b9",
   "metadata": {},
   "outputs": [
    {
     "data": {
      "text/plain": [
       "{'predConcello': {'idConcello': 15078,\n",
       "  'listaPredDiaConcello': [{'ceo': {'manha': 108, 'noite': 208, 'tarde': 111},\n",
       "    'dataPredicion': '2023-01-19T00:00:00',\n",
       "    'nivelAviso': 1,\n",
       "    'pchoiva': {'manha': 80, 'noite': 80, 'tarde': 95},\n",
       "    'tMax': 12,\n",
       "    'tMin': 3,\n",
       "    'tmaxFranxa': None,\n",
       "    'tminFranxa': None,\n",
       "    'uvMax': 1,\n",
       "    'vento': {'manha': 306, 'noite': 300, 'tarde': 315}},\n",
       "   {'ceo': {'manha': 104, 'noite': 217, 'tarde': 105},\n",
       "    'dataPredicion': '2023-01-20T00:00:00',\n",
       "    'nivelAviso': 0,\n",
       "    'pchoiva': {'manha': 40, 'noite': 80, 'tarde': 40},\n",
       "    'tMax': 12,\n",
       "    'tMin': 6,\n",
       "    'tmaxFranxa': None,\n",
       "    'tminFranxa': None,\n",
       "    'uvMax': 1,\n",
       "    'vento': {'manha': 301, 'noite': 301, 'tarde': 306}},\n",
       "   {'ceo': {'manha': 105, 'noite': 204, 'tarde': 104},\n",
       "    'dataPredicion': '2023-01-21T00:00:00',\n",
       "    'nivelAviso': 0,\n",
       "    'pchoiva': {'manha': 40, 'noite': 15, 'tarde': 40},\n",
       "    'tMax': 13,\n",
       "    'tMin': 7,\n",
       "    'tmaxFranxa': None,\n",
       "    'tminFranxa': None,\n",
       "    'uvMax': 1,\n",
       "    'vento': {'manha': 301, 'noite': 302, 'tarde': 309}},\n",
       "   {'ceo': {'manha': 103, 'noite': 201, 'tarde': 102},\n",
       "    'dataPredicion': '2023-01-22T00:00:00',\n",
       "    'nivelAviso': None,\n",
       "    'pchoiva': {'manha': 5, 'noite': 5, 'tarde': 5},\n",
       "    'tMax': 11,\n",
       "    'tMin': 2,\n",
       "    'tmaxFranxa': None,\n",
       "    'tminFranxa': None,\n",
       "    'uvMax': -9999,\n",
       "    'vento': {'manha': 302, 'noite': 302, 'tarde': 302}}],\n",
       "  'nome': 'Santiago de Compostela'}}"
      ]
     },
     "execution_count": 8,
     "metadata": {},
     "output_type": "execute_result"
    }
   ],
   "source": [
    "response = requests.get(url)\n",
    "response.json()"
   ]
  },
  {
   "cell_type": "code",
   "execution_count": null,
   "id": "4984891c-7fb2-4734-b688-40aa5734e84c",
   "metadata": {},
   "outputs": [],
   "source": [
    "# Cada API ten a súa documentación específica, ás veces en formato web, ás veces PDF, ... \n",
    "# Bótalle un ollo á documentación que ofrece Meteogalicia para a predición a curto prazo por concello\n",
    "# para entender o tipo de servizo e datos que ofrece e poder realizar o exercicio."
   ]
  },
  {
   "cell_type": "code",
   "execution_count": null,
   "id": "583581b9-0b93-42ae-b56e-54372b957b65",
   "metadata": {},
   "outputs": [],
   "source": [
    "# Consulta a predición a curto prazo para o concello de Monfero\n",
    "# Utiliza a documentación para entender como funciona a API e que significan os resultados\n",
    "# É suficiente con obter o JSON coa predicción\n",
    "# Podes tentar acceder aos diferentes elementos\n",
    "response = requests.get(url)"
   ]
  },
  {
   "cell_type": "code",
   "execution_count": null,
   "id": "53d53d0b",
   "metadata": {},
   "outputs": [],
   "source": [
    "https://www.meteogalicia.gal/datosred/infoweb/meteo/docs/rss/JSON_Pred_Concello_gl.pdf"
   ]
  },
  {
   "cell_type": "code",
   "execution_count": null,
   "id": "b9d98ad8",
   "metadata": {},
   "outputs": [],
   "source": [
    "# Consulta a temperatura máxima e mínima previstas a curto prazo para o concello de Paderne\n",
    "# En concreto, para o día seguinte ao actual (para mañá)"
   ]
  },
  {
   "cell_type": "code",
   "execution_count": null,
   "id": "d6bb683a-95ab-4dbc-a7ce-6504a7ac5b2e",
   "metadata": {},
   "outputs": [],
   "source": []
  },
  {
   "cell_type": "code",
   "execution_count": null,
   "id": "2f2e1260-d2b9-42d0-bb91-5fc64ad37c00",
   "metadata": {},
   "outputs": [],
   "source": [
    "# Meteogalicia tamén ofrece información sobre as praias a través da súa API\n",
    "# https://www.meteogalicia.gal/datosred/infoweb/meteo/docs/rss/JSON_Pred_Praia_gl.pdf"
   ]
  },
  {
   "cell_type": "code",
   "execution_count": null,
   "id": "46c52797-4aaa-49d2-8555-2245597c2a3d",
   "metadata": {},
   "outputs": [],
   "source": [
    "# Comproba a predición para a temperatura da auga da praia de Riazor e comparaa coa da praia das Catedrais"
   ]
  },
  {
   "cell_type": "code",
   "execution_count": null,
   "id": "1ff27f02-80f3-428c-b192-2bf8948b95c1",
   "metadata": {},
   "outputs": [],
   "source": []
  },
  {
   "cell_type": "code",
   "execution_count": null,
   "id": "fdfe2aad",
   "metadata": {},
   "outputs": [],
   "source": [
    "# Investiga na páxina de Meteogalicia entre os diferentes servizos dispoñibles\n",
    "# Conéctate a algún dos servizos e extrae algunha información\n",
    "# Imaxina un caso de uso para eses datos (pode ser algo sinxelo, non tes que pensar en BigData)\n",
    "# Se é algo sinxelo, podes tentar programalo!!!"
   ]
  },
  {
   "cell_type": "code",
   "execution_count": null,
   "id": "902fed70",
   "metadata": {},
   "outputs": [],
   "source": []
  }
 ],
 "metadata": {
  "kernelspec": {
   "display_name": "Python 3 (ipykernel)",
   "language": "python",
   "name": "python3"
  },
  "language_info": {
   "codemirror_mode": {
    "name": "ipython",
    "version": 3
   },
   "file_extension": ".py",
   "mimetype": "text/x-python",
   "name": "python",
   "nbconvert_exporter": "python",
   "pygments_lexer": "ipython3",
   "version": "3.9.13"
  }
 },
 "nbformat": 4,
 "nbformat_minor": 5
}
